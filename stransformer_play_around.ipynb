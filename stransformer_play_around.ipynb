{
 "cells": [
  {
   "cell_type": "code",
   "execution_count": 1,
   "metadata": {},
   "outputs": [
    {
     "name": "stderr",
     "output_type": "stream",
     "text": [
      "/Library/Frameworks/Python.framework/Versions/3.11/lib/python3.11/site-packages/sentence_transformers/cross_encoder/CrossEncoder.py:11: TqdmExperimentalWarning: Using `tqdm.autonotebook.tqdm` in notebook mode. Use `tqdm.tqdm` instead to force console mode (e.g. in jupyter console)\n",
      "  from tqdm.autonotebook import tqdm, trange\n"
     ]
    }
   ],
   "source": [
    "import numpy as np \n",
    "from sentence_transformers import SentenceTransformer"
   ]
  },
  {
   "cell_type": "code",
   "execution_count": 106,
   "metadata": {},
   "outputs": [
    {
     "name": "stdout",
     "output_type": "stream",
     "text": [
      "Model max token length is 256. Sentence length longer than this is truncated.\n"
     ]
    }
   ],
   "source": [
    "model = SentenceTransformer(\"all-MiniLM-L6-v2\")\n",
    "# model = SentenceTransformer(\"all-mpnet-base-v2\")\n",
    "print(f'Model max token length is {model.max_seq_length}. Sentence length longer than this is truncated.')\n",
    "\n",
    "# typically abstract is about 100 -250 words, so this serves its purpose. "
   ]
  },
  {
   "cell_type": "code",
   "execution_count": 107,
   "metadata": {},
   "outputs": [],
   "source": [
    "documents = [\n",
    "    'Title: Phases and phase transitions in a dimerized spin-12 XXZ chain Date: Tue, 27 Aug 2024',\n",
    "    'Title: Strongly interacting Hofstadter states in magic-angle twisted bilayer graphene Date: 2024/8/27',\n",
    "    'Title:Constraints imposed by symmetry on pairing operators for the iron pnictides, Date: 20 April 2010',\n",
    "    'Title: Interplay between tetragonal magnetic order, stripe magnetism, and superconductivity in iron-based materials Date: 6 March 2015',\n",
    "    'Title: Visualizing the nonlinear coupling between strain and electronic nematicity in the iron pnictides by elasto-scanning tunneling spectroscopy, Date: 2018/12/13',\n",
    "    'Title: Strong-coupling expansion of multi-band interacting models: Mapping onto the transverse-field J1-J2 Ising model, Journal:  Annals of physics, Date: 2021/12/1'\n",
    "]\n",
    "\n",
    "doc_embedding = model.encode(documents)"
   ]
  },
  {
   "cell_type": "code",
   "execution_count": 108,
   "metadata": {},
   "outputs": [
    {
     "name": "stdout",
     "output_type": "stream",
     "text": [
      "tensor([[0.2110, 0.2315, 0.6002, 0.3883, 0.4841, 0.0575]])\n"
     ]
    }
   ],
   "source": [
    "query = ['recent articles about iron pnictides']\n",
    "query_embedding = model.encode(query)\n",
    "scores = model.similarity(query_embedding,doc_embedding)\n",
    "print(scores)"
   ]
  },
  {
   "cell_type": "code",
   "execution_count": 60,
   "metadata": {},
   "outputs": [
    {
     "name": "stdout",
     "output_type": "stream",
     "text": [
      "tensor([[0.2544, 0.5624, 0.2697, 0.2475, 0.3872, 0.2009]])\n"
     ]
    }
   ],
   "source": [
    "query = ['recent articles about graphene']\n",
    "query_embedding = model.encode(query)\n",
    "scores = model.similarity(query_embedding,doc_embedding)\n",
    "print(scores)"
   ]
  },
  {
   "cell_type": "code",
   "execution_count": 63,
   "metadata": {},
   "outputs": [
    {
     "name": "stdout",
     "output_type": "stream",
     "text": [
      "tensor([[0.0795, 0.0780, 0.0957, 0.0070, 0.0383, 0.0119]])\n"
     ]
    }
   ],
   "source": [
    "query = ['old articles before 2016']\n",
    "query_embedding = model.encode(query)\n",
    "scores = model.similarity(query_embedding,doc_embedding)\n",
    "print(scores)"
   ]
  },
  {
   "cell_type": "markdown",
   "metadata": {},
   "source": [
    "* https://sbert.net/examples/applications/computing-embeddings/README.html"
   ]
  },
  {
   "cell_type": "code",
   "execution_count": 105,
   "metadata": {},
   "outputs": [
    {
     "data": {
      "text/plain": [
       "tensor([[1.0000]])"
      ]
     },
     "execution_count": 105,
     "metadata": {},
     "output_type": "execute_result"
    }
   ],
   "source": [
    "doc = [\n",
    "    \"Venture capital (VC) and hedge funds are both types of investment firms, but they differ significantly in terms of their strategies, goals, and the types of investments they make. **Investment Focus**: VCs invest in early-stage companies, often startups, that have high growth potential. These companies are usually in the technology, healthcare, or other innovative sectors **Risk and Return**: Venture capital investments are high-risk because they involve funding companies that may not yet be profitable. However, if the companies succeed, the returns can be very high. **Investment Horizon**: VCs typically have a long-term investment horizon, often holding investments for several years until the company goes public (IPO) or is acquired. *Involvement**: Venture capitalists often take an active role in the companies they invest in, offering advice, guidance, and sometimes even taking seats on the board of directors.  **Fund Structure**: VCs usually raise funds from institutional investors or wealthy individuals and invest that capital into a portfolio of startups. *Investment Focus**: Hedge funds invest in a wide range of financial assets, including stocks, bonds, derivatives, currencies, and sometimes even commodities or real estate. Their goal is to maximize returns while minimizing risk, often through complex strategies. *Risk and Return**: Hedge funds can range from low-risk to very high-risk, depending on their strategies. They aim to generate consistent returns regardless of market conditions. Investment Horizon**: Hedge funds usually have a shorter investment horizon compared to VC, often holding positions for months or even weeks Involvement**: Hedge fund managers generally do not get involved in the management of the companies they invest in. Their focus is on market performance rather than the operational success of any particular company. Fund Structure**: Hedge funds raise capital from institutional investors and wealthy individuals, similar to VCs, but they often employ leverage and use complex trading strategies to enhance returns.**Stage of Investment**: VCs invest in early-stage companies, while hedge funds typically invest in more mature markets and assets. **Time Horizon**: VCs have a longer-term focus, while hedge funds may have shorter-term strategies  **Involvement**: VCs are more involved in the companies they invest in, while hedge funds focus on financial performance **Risk Profile**: Venture capital is inherently riskier due to the nature of startups, whereas hedge funds use various strategies to manage and mitigate risk. Both play crucial roles in the financial ecosystem but cater to different investor needs and objectives. \"]\n",
    "\n",
    "doc_embedding = model.encode(doc)\n",
    "doc_embedding1 = model.encode([doc[0][:1550]])\n",
    "model.similarity(doc_embedding,doc_embedding1)\n",
    "\n",
    "# this demonstrates that doc is truncated in the encoding process "
   ]
  },
  {
   "cell_type": "code",
   "execution_count": null,
   "metadata": {},
   "outputs": [],
   "source": []
  }
 ],
 "metadata": {
  "kernelspec": {
   "display_name": "Python 3",
   "language": "python",
   "name": "python3"
  },
  "language_info": {
   "codemirror_mode": {
    "name": "ipython",
    "version": 3
   },
   "file_extension": ".py",
   "mimetype": "text/x-python",
   "name": "python",
   "nbconvert_exporter": "python",
   "pygments_lexer": "ipython3",
   "version": "3.11.9"
  }
 },
 "nbformat": 4,
 "nbformat_minor": 2
}
