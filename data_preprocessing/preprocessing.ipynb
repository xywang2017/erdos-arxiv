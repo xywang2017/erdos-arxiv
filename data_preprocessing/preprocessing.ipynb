{
 "cells": [
  {
   "cell_type": "markdown",
   "id": "efa023a3-b790-4a58-b131-000f63c95245",
   "metadata": {},
   "source": [
    "# arXiv data processing\n",
    "\n",
    "- The objective of this notebook is as follows\n",
    "- Get the arXiv metadata via kaggle as well as via python arxiv module\n",
    "- Exploratory data analyis\n",
    "- Understand how word embedding mechanisms work, such as word2vec and Glove\n",
    "- Create a vector database of arXiv data\n",
    "- This forms the basis for next stage work in training a RAG + transformer "
   ]
  },
  {
   "cell_type": "code",
   "execution_count": 1,
   "id": "a08dd6c7-90b4-438d-a904-97f26cb0eae0",
   "metadata": {},
   "outputs": [],
   "source": [
    "import numpy as np\n",
    "import matplotlib.pyplot as plt\n",
    "%matplotlib inline\n",
    "import json\n",
    "import pandas as pd \n",
    "import re   # regular expression \n",
    "\n",
    "arxiv_dataset = './arxiv-metadata-oai-snapshot.json'"
   ]
  },
  {
   "cell_type": "code",
   "execution_count": 2,
   "id": "282189b7-7359-445b-b6fa-16eed72787ff",
   "metadata": {},
   "outputs": [],
   "source": [
    "df = pd.read_json(arxiv_dataset, lines=True)"
   ]
  },
  {
   "cell_type": "code",
   "execution_count": 3,
   "id": "a57a0e6f-eae0-42c8-a490-8479b645fbda",
   "metadata": {},
   "outputs": [
    {
     "name": "stdout",
     "output_type": "stream",
     "text": [
      "<class 'pandas.core.frame.DataFrame'>\n",
      "RangeIndex: 2515829 entries, 0 to 2515828\n",
      "Data columns (total 14 columns):\n",
      " #   Column          Dtype \n",
      "---  ------          ----- \n",
      " 0   id              object\n",
      " 1   submitter       object\n",
      " 2   authors         object\n",
      " 3   title           object\n",
      " 4   comments        object\n",
      " 5   journal-ref     object\n",
      " 6   doi             object\n",
      " 7   report-no       object\n",
      " 8   categories      object\n",
      " 9   license         object\n",
      " 10  abstract        object\n",
      " 11  versions        object\n",
      " 12  update_date     object\n",
      " 13  authors_parsed  object\n",
      "dtypes: object(14)\n",
      "memory usage: 268.7+ MB\n"
     ]
    }
   ],
   "source": [
    "df.info()"
   ]
  },
  {
   "cell_type": "code",
   "execution_count": 4,
   "id": "66903293-59ae-485c-9871-04ac5dce40c5",
   "metadata": {},
   "outputs": [],
   "source": [
    "df.drop(columns=['submitter','comments',\n",
    "                 'journal-ref','doi','report-no','license','versions','update_date'],inplace=True)\n",
    "df.dropna(inplace=True)"
   ]
  },
  {
   "cell_type": "code",
   "execution_count": 5,
   "id": "626c1dcf-5c74-4c46-85df-41bdc8a84615",
   "metadata": {},
   "outputs": [
    {
     "data": {
      "text/html": [
       "<div>\n",
       "<style scoped>\n",
       "    .dataframe tbody tr th:only-of-type {\n",
       "        vertical-align: middle;\n",
       "    }\n",
       "\n",
       "    .dataframe tbody tr th {\n",
       "        vertical-align: top;\n",
       "    }\n",
       "\n",
       "    .dataframe thead th {\n",
       "        text-align: right;\n",
       "    }\n",
       "</style>\n",
       "<table border=\"1\" class=\"dataframe\">\n",
       "  <thead>\n",
       "    <tr style=\"text-align: right;\">\n",
       "      <th></th>\n",
       "      <th>id</th>\n",
       "      <th>authors</th>\n",
       "      <th>title</th>\n",
       "      <th>categories</th>\n",
       "      <th>abstract</th>\n",
       "      <th>authors_parsed</th>\n",
       "    </tr>\n",
       "  </thead>\n",
       "  <tbody>\n",
       "    <tr>\n",
       "      <th>602161</th>\n",
       "      <td>1502.07501</td>\n",
       "      <td>S.D. Connolly, I.M. McHardy and T. Dwelly</td>\n",
       "      <td>Long-Term X-ray Spectral Variability of Seyfer...</td>\n",
       "      <td>astro-ph.HE</td>\n",
       "      <td>We present analysis of the long-term X-ray s...</td>\n",
       "      <td>[[Connolly, S. D., ], [McHardy, I. M., ], [Dwe...</td>\n",
       "    </tr>\n",
       "    <tr>\n",
       "      <th>1607484</th>\n",
       "      <td>2202.08660</td>\n",
       "      <td>Guilherme Eduardo Freire Oliveira, Christian M...</td>\n",
       "      <td>Photon frequency diffusion process</td>\n",
       "      <td>cond-mat.stat-mech astro-ph.CO</td>\n",
       "      <td>We introduce a stochastic multi-photon dynam...</td>\n",
       "      <td>[[Oliveira, Guilherme Eduardo Freire, ], [Maes...</td>\n",
       "    </tr>\n",
       "    <tr>\n",
       "      <th>2129668</th>\n",
       "      <td>astro-ph/0310521</td>\n",
       "      <td>A. S. Cohen, H. J. A. Rottgering, M. J. Jarvis...</td>\n",
       "      <td>A Deep, High-Resolution Survey at 74 MHz</td>\n",
       "      <td>astro-ph</td>\n",
       "      <td>We present a 74 MHz survey of a 165 square d...</td>\n",
       "      <td>[[Cohen, A. S., ], [Rottgering, H. J. A., ], [...</td>\n",
       "    </tr>\n",
       "    <tr>\n",
       "      <th>2155459</th>\n",
       "      <td>astro-ph/0610551</td>\n",
       "      <td>Alan B. Whiting, George K. T. Hau, Mike Irwin,...</td>\n",
       "      <td>An Observational Limit on the Dwarf Galaxy Pop...</td>\n",
       "      <td>astro-ph</td>\n",
       "      <td>We present the results of an all-sky, deep o...</td>\n",
       "      <td>[[Whiting, Alan B., ], [Hau, George K. T., ], ...</td>\n",
       "    </tr>\n",
       "  </tbody>\n",
       "</table>\n",
       "</div>"
      ],
      "text/plain": [
       "                       id                                            authors  \\\n",
       "602161         1502.07501          S.D. Connolly, I.M. McHardy and T. Dwelly   \n",
       "1607484        2202.08660  Guilherme Eduardo Freire Oliveira, Christian M...   \n",
       "2129668  astro-ph/0310521  A. S. Cohen, H. J. A. Rottgering, M. J. Jarvis...   \n",
       "2155459  astro-ph/0610551  Alan B. Whiting, George K. T. Hau, Mike Irwin,...   \n",
       "\n",
       "                                                     title  \\\n",
       "602161   Long-Term X-ray Spectral Variability of Seyfer...   \n",
       "1607484                 Photon frequency diffusion process   \n",
       "2129668           A Deep, High-Resolution Survey at 74 MHz   \n",
       "2155459  An Observational Limit on the Dwarf Galaxy Pop...   \n",
       "\n",
       "                             categories  \\\n",
       "602161                      astro-ph.HE   \n",
       "1607484  cond-mat.stat-mech astro-ph.CO   \n",
       "2129668                        astro-ph   \n",
       "2155459                        astro-ph   \n",
       "\n",
       "                                                  abstract  \\\n",
       "602161     We present analysis of the long-term X-ray s...   \n",
       "1607484    We introduce a stochastic multi-photon dynam...   \n",
       "2129668    We present a 74 MHz survey of a 165 square d...   \n",
       "2155459    We present the results of an all-sky, deep o...   \n",
       "\n",
       "                                            authors_parsed  \n",
       "602161   [[Connolly, S. D., ], [McHardy, I. M., ], [Dwe...  \n",
       "1607484  [[Oliveira, Guilherme Eduardo Freire, ], [Maes...  \n",
       "2129668  [[Cohen, A. S., ], [Rottgering, H. J. A., ], [...  \n",
       "2155459  [[Whiting, Alan B., ], [Hau, George K. T., ], ...  "
      ]
     },
     "execution_count": 5,
     "metadata": {},
     "output_type": "execute_result"
    }
   ],
   "source": [
    "df.sample(4)"
   ]
  },
  {
   "cell_type": "code",
   "execution_count": 63,
   "id": "d379db2b-d292-43c1-b1aa-6f7e4ad29812",
   "metadata": {},
   "outputs": [
    {
     "data": {
      "text/plain": [
       "[[['Prokopec', 'Tomislav', '', 'Utrecht University'],\n",
       "  ['Valkenburg', 'Wessel', '', 'Utrecht University']]]"
      ]
     },
     "execution_count": 63,
     "metadata": {},
     "output_type": "execute_result"
    }
   ],
   "source": [
    "list(df[['authors_parsed']].iloc[2141155])"
   ]
  },
  {
   "cell_type": "code",
   "execution_count": 64,
   "id": "aca9c472-d62c-4824-a7cb-aa2e97e1c6c7",
   "metadata": {},
   "outputs": [
    {
     "name": "stdout",
     "output_type": "stream",
     "text": [
      "<class 'pandas.core.frame.DataFrame'>\n",
      "RangeIndex: 2515829 entries, 0 to 2515828\n",
      "Data columns (total 6 columns):\n",
      " #   Column          Dtype \n",
      "---  ------          ----- \n",
      " 0   id              object\n",
      " 1   authors         object\n",
      " 2   title           object\n",
      " 3   categories      object\n",
      " 4   abstract        object\n",
      " 5   authors_parsed  object\n",
      "dtypes: object(6)\n",
      "memory usage: 115.2+ MB\n"
     ]
    }
   ],
   "source": [
    "df.info()"
   ]
  },
  {
   "cell_type": "markdown",
   "id": "1f0eddae-7b75-48ab-9121-c24da22e30c9",
   "metadata": {},
   "source": [
    "### Create author data base\n",
    "\n",
    "- Traditional rule based approach is difficult\n",
    "- for instance:\n",
    "- \"Wang, Xiaoyu; Vafek, Oskar\"\n",
    "- \"Xiaoyu Wang and Oskar Vafek\"\n",
    "- \"Xiaoyu Wang (NHMFL) and Oskar Vafek (FSU)\"\n",
    "- \"Xiaoyu Wang (1) NHMFL and Oskar Vafek (2) FSU\"\n",
    "-  \"Xiaoyu Wang &  Oskar Vafek\"\n",
    "\n",
    "All cases exist due to nonstandardized way of introducing names but all correspond to the same author list\n",
    "\n",
    "Here we using HuggingFace's transformer pipeline to implement a NER (named entity recognition) task to identify names "
   ]
  },
  {
   "cell_type": "code",
   "execution_count": 20,
   "id": "44a012ce-d83c-4022-880d-12d836900eb9",
   "metadata": {},
   "outputs": [
    {
     "name": "stdout",
     "output_type": "stream",
     "text": [
      "[('Karine', 'PERSON'), ('Jean-Piere', 'PERSON'), ('(', 'O'), ('1', 'O'), (')', 'O'), ('NHMFL', 'O'), ('and', 'O'), ('Oskar', 'PERSON'), ('Vafek', 'PERSON'), ('(', 'O'), ('2', 'O'), (')', 'O'), ('FSU', 'O')]\n"
     ]
    }
   ],
   "source": [
    "from nltk.tag import StanfordNERTagger\n",
    "from nltk.tokenize import word_tokenize\n",
    "st = StanfordNERTagger('stanford-ner-2020-11-17/classifiers/english.all.3class.distsim.crf.ser.gz',\n",
    "\t\t\t\t\t   'stanford-ner-2020-11-17/stanford-ner.jar',\n",
    "\t\t\t\t\t   encoding='utf-8')\n",
    "\n",
    "text = 'Karine Jean-Piere (1) NHMFL and Oskar Vafek (2) FSU'\n",
    "\n",
    "tokenized_text = word_tokenize(text)\n",
    "classified_text = st.tag(tokenized_text)\n",
    "print(classified_text)\n"
   ]
  },
  {
   "cell_type": "code",
   "execution_count": null,
   "id": "4cee08bb-c84d-4ca5-91cc-5f461e35591b",
   "metadata": {},
   "outputs": [],
   "source": []
  },
  {
   "cell_type": "code",
   "execution_count": null,
   "id": "613f540e-adf6-4d95-b200-fc933185956d",
   "metadata": {},
   "outputs": [],
   "source": []
  },
  {
   "cell_type": "code",
   "execution_count": 21,
   "id": "77b8fa23-751f-4f5c-8252-977ad85ffbce",
   "metadata": {},
   "outputs": [
    {
     "name": "stdout",
     "output_type": "stream",
     "text": [
      "[('Karine', 'PERSON'), ('Jean-Piere', 'PERSON'), ('Oskar', 'PERSON'), ('Vafek', 'PERSON')]\n"
     ]
    }
   ],
   "source": [
    "print([cf for cf in classified_text if cf[1]=='PERSON'])\n",
    "\n",
    "# author_list = []\n",
    "# for index, row in enumerate(df['authors_parsed']):\n",
    "#     for j in range(len(row)):\n",
    "#         author = ''\n",
    "#         for k in range(len(row[j])):\n",
    "#             author = row[j][k] + ' ' + author\n",
    "#             author_list.append(author.strip())\n",
    "# author_list = set(author_list)"
   ]
  },
  {
   "cell_type": "code",
   "execution_count": 19,
   "id": "f6bd4990-7639-429a-bf21-4fc6664f47f1",
   "metadata": {},
   "outputs": [],
   "source": [
    "author_db = pd.DataFrame({'author_list':list(author_list)})"
   ]
  },
  {
   "cell_type": "code",
   "execution_count": 20,
   "id": "3657d3d6-a70b-429c-88f3-bd6037f360ae",
   "metadata": {},
   "outputs": [
    {
     "name": "stdout",
     "output_type": "stream",
     "text": [
      "<class 'pandas.core.frame.DataFrame'>\n",
      "RangeIndex: 2449529 entries, 0 to 2449528\n",
      "Data columns (total 1 columns):\n",
      " #   Column       Dtype \n",
      "---  ------       ----- \n",
      " 0   author_list  object\n",
      "dtypes: object(1)\n",
      "memory usage: 18.7+ MB\n"
     ]
    }
   ],
   "source": [
    "author_db.info()"
   ]
  },
  {
   "cell_type": "code",
   "execution_count": 21,
   "id": "9aa587a7-a580-4858-9b78-441fe494cbba",
   "metadata": {},
   "outputs": [],
   "source": [
    "tmp = author_db.sort_values(by='author_list')"
   ]
  },
  {
   "cell_type": "code",
   "execution_count": 22,
   "id": "2a37cd8b-bbf4-4d28-86f5-76826fe2bc5e",
   "metadata": {},
   "outputs": [
    {
     "data": {
      "text/html": [
       "<div>\n",
       "<style scoped>\n",
       "    .dataframe tbody tr th:only-of-type {\n",
       "        vertical-align: middle;\n",
       "    }\n",
       "\n",
       "    .dataframe tbody tr th {\n",
       "        vertical-align: top;\n",
       "    }\n",
       "\n",
       "    .dataframe thead th {\n",
       "        text-align: right;\n",
       "    }\n",
       "</style>\n",
       "<table border=\"1\" class=\"dataframe\">\n",
       "  <thead>\n",
       "    <tr style=\"text-align: right;\">\n",
       "      <th></th>\n",
       "      <th>author_list</th>\n",
       "    </tr>\n",
       "  </thead>\n",
       "  <tbody>\n",
       "    <tr>\n",
       "      <th>1144597</th>\n",
       "      <td>\"Aek\"  Thotsaporn Thanatipanonda</td>\n",
       "    </tr>\n",
       "    <tr>\n",
       "      <th>1616714</th>\n",
       "      <td>\"Coherentia\"-INFM and Dipartimento di Fisica, ...</td>\n",
       "    </tr>\n",
       "    <tr>\n",
       "      <th>1540529</th>\n",
       "      <td>\"Coherentia\"-INFM and Dipartimento di Fisica, ...</td>\n",
       "    </tr>\n",
       "    <tr>\n",
       "      <th>240012</th>\n",
       "      <td>\"Coherentia\"-INFM and Dipartimento di Fisica, ...</td>\n",
       "    </tr>\n",
       "    <tr>\n",
       "      <th>130830</th>\n",
       "      <td>\"Coherentia\"-INFM and Dipartimento di Fisica, ...</td>\n",
       "    </tr>\n",
       "    <tr>\n",
       "      <th>...</th>\n",
       "      <td>...</td>\n",
       "    </tr>\n",
       "    <tr>\n",
       "      <th>94402</th>\n",
       "      <td>Žąsinas</td>\n",
       "    </tr>\n",
       "    <tr>\n",
       "      <th>2398600</th>\n",
       "      <td>Žďánský</td>\n",
       "    </tr>\n",
       "    <tr>\n",
       "      <th>1139684</th>\n",
       "      <td>ž. Crljen</td>\n",
       "    </tr>\n",
       "    <tr>\n",
       "      <th>497416</th>\n",
       "      <td>žÍidek</td>\n",
       "    </tr>\n",
       "    <tr>\n",
       "      <th>607614</th>\n",
       "      <td>‡</td>\n",
       "    </tr>\n",
       "  </tbody>\n",
       "</table>\n",
       "<p>2449529 rows × 1 columns</p>\n",
       "</div>"
      ],
      "text/plain": [
       "                                               author_list\n",
       "1144597                   \"Aek\"  Thotsaporn Thanatipanonda\n",
       "1616714  \"Coherentia\"-INFM and Dipartimento di Fisica, ...\n",
       "1540529  \"Coherentia\"-INFM and Dipartimento di Fisica, ...\n",
       "240012   \"Coherentia\"-INFM and Dipartimento di Fisica, ...\n",
       "130830   \"Coherentia\"-INFM and Dipartimento di Fisica, ...\n",
       "...                                                    ...\n",
       "94402                                              Žąsinas\n",
       "2398600                                            Žďánský\n",
       "1139684                                          ž. Crljen\n",
       "497416                                              žÍidek\n",
       "607614                                                   ‡\n",
       "\n",
       "[2449529 rows x 1 columns]"
      ]
     },
     "execution_count": 22,
     "metadata": {},
     "output_type": "execute_result"
    }
   ],
   "source": [
    "tmp"
   ]
  },
  {
   "cell_type": "code",
   "execution_count": 23,
   "id": "fb0f474b-f171-4d39-939e-ba746c7778b2",
   "metadata": {},
   "outputs": [
    {
     "data": {
      "text/html": [
       "<div>\n",
       "<style scoped>\n",
       "    .dataframe tbody tr th:only-of-type {\n",
       "        vertical-align: middle;\n",
       "    }\n",
       "\n",
       "    .dataframe tbody tr th {\n",
       "        vertical-align: top;\n",
       "    }\n",
       "\n",
       "    .dataframe thead th {\n",
       "        text-align: right;\n",
       "    }\n",
       "</style>\n",
       "<table border=\"1\" class=\"dataframe\">\n",
       "  <thead>\n",
       "    <tr style=\"text-align: right;\">\n",
       "      <th></th>\n",
       "      <th>author_list</th>\n",
       "    </tr>\n",
       "  </thead>\n",
       "  <tbody>\n",
       "    <tr>\n",
       "      <th>0</th>\n",
       "      <td>LPL, LNE-SYRTE  Fabio Stefani</td>\n",
       "    </tr>\n",
       "    <tr>\n",
       "      <th>1</th>\n",
       "      <td>Carsten Hensel</td>\n",
       "    </tr>\n",
       "    <tr>\n",
       "      <th>2</th>\n",
       "      <td>Rahul Sheth</td>\n",
       "    </tr>\n",
       "    <tr>\n",
       "      <th>3</th>\n",
       "      <td>Luis Miaja</td>\n",
       "    </tr>\n",
       "    <tr>\n",
       "      <th>4</th>\n",
       "      <td>Yirui</td>\n",
       "    </tr>\n",
       "    <tr>\n",
       "      <th>...</th>\n",
       "      <td>...</td>\n",
       "    </tr>\n",
       "    <tr>\n",
       "      <th>2449524</th>\n",
       "      <td>Srihari Nanniyur</td>\n",
       "    </tr>\n",
       "    <tr>\n",
       "      <th>2449525</th>\n",
       "      <td>P. Eckert</td>\n",
       "    </tr>\n",
       "    <tr>\n",
       "      <th>2449526</th>\n",
       "      <td>the NOvA Collaboration  B. Bhuyan</td>\n",
       "    </tr>\n",
       "    <tr>\n",
       "      <th>2449527</th>\n",
       "      <td>on behalf of the ATLAS Liquid Argon Calorimete...</td>\n",
       "    </tr>\n",
       "    <tr>\n",
       "      <th>2449528</th>\n",
       "      <td>25 and 51  L. Conversi</td>\n",
       "    </tr>\n",
       "  </tbody>\n",
       "</table>\n",
       "<p>2449529 rows × 1 columns</p>\n",
       "</div>"
      ],
      "text/plain": [
       "                                               author_list\n",
       "0                            LPL, LNE-SYRTE  Fabio Stefani\n",
       "1                                           Carsten Hensel\n",
       "2                                              Rahul Sheth\n",
       "3                                               Luis Miaja\n",
       "4                                                    Yirui\n",
       "...                                                    ...\n",
       "2449524                                   Srihari Nanniyur\n",
       "2449525                                          P. Eckert\n",
       "2449526                  the NOvA Collaboration  B. Bhuyan\n",
       "2449527  on behalf of the ATLAS Liquid Argon Calorimete...\n",
       "2449528                             25 and 51  L. Conversi\n",
       "\n",
       "[2449529 rows x 1 columns]"
      ]
     },
     "execution_count": 23,
     "metadata": {},
     "output_type": "execute_result"
    }
   ],
   "source": [
    "author_db"
   ]
  },
  {
   "cell_type": "code",
   "execution_count": null,
   "id": "98c553f4-6a37-46b2-b957-67b20bb1197e",
   "metadata": {},
   "outputs": [],
   "source": []
  }
 ],
 "metadata": {
  "kernelspec": {
   "display_name": "Python 3 (ipykernel)",
   "language": "python",
   "name": "python3"
  },
  "language_info": {
   "codemirror_mode": {
    "name": "ipython",
    "version": 3
   },
   "file_extension": ".py",
   "mimetype": "text/x-python",
   "name": "python",
   "nbconvert_exporter": "python",
   "pygments_lexer": "ipython3",
   "version": "3.11.9"
  }
 },
 "nbformat": 4,
 "nbformat_minor": 5
}
