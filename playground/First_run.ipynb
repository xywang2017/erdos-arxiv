{
 "cells": [
  {
   "cell_type": "code",
   "execution_count": 1,
   "id": "7e10becc-11cf-4cf5-bea9-ab49f0f8623e",
   "metadata": {},
   "outputs": [
    {
     "name": "stdout",
     "output_type": "stream",
     "text": [
      "Intel MKL WARNING: Support of Intel(R) Streaming SIMD Extensions 4.2 (Intel(R) SSE4.2) enabled only processors has been deprecated. Intel oneAPI Math Kernel Library 2025.0 will require Intel(R) Advanced Vector Extensions (Intel(R) AVX) instructions.\n",
      "Intel MKL WARNING: Support of Intel(R) Streaming SIMD Extensions 4.2 (Intel(R) SSE4.2) enabled only processors has been deprecated. Intel oneAPI Math Kernel Library 2025.0 will require Intel(R) Advanced Vector Extensions (Intel(R) AVX) instructions.\n"
     ]
    }
   ],
   "source": [
    "from langchain_community.document_loaders import ArxivLoader\n",
    "from langchain.text_splitter import RecursiveCharacterTextSplitter\n",
    "from langchain_community.vectorstores import Chroma\n",
    "from langchain_community.embeddings import HuggingFaceEmbeddings\n",
    "\n",
    "import os \n",
    "import getpass\n",
    "\n",
    "from langchain.chains import RetrievalQA\n",
    "from langchain_openai import OpenAI\n",
    "\n",
    "from dotenv import load_dotenv\n",
    "\n",
    "from langchain_google_genai import ChatGoogleGenerativeAI"
   ]
  },
  {
   "cell_type": "markdown",
   "id": "a2a7c04c-a211-48ae-97bf-90bdb25445fd",
   "metadata": {},
   "source": [
    "### Arxivloader ###\n",
    "\n",
    "Info. - https://python.langchain.com/v0.2/docs/integrations/document_loaders/arxiv/\n",
    "\n",
    "This would be super helpful as this will help u"
   ]
  },
  {
   "cell_type": "code",
   "execution_count": 14,
   "id": "c338ef84-c75d-4fc3-8173-0195f8f4a9fa",
   "metadata": {},
   "outputs": [],
   "source": [
    "### Getting relevant paper from arxiv #####\n",
    "\n",
    "query = \"burst rate and morphological evolution of the periodically repeating FRB 20180916B\"\n",
    "arxiv_docs = ArxivLoader(query=query, load_max_docs=3).load() #### Loads number of paper given the query"
   ]
  },
  {
   "cell_type": "markdown",
   "id": "15e5380f-d927-48f5-9473-8dd2e3df1a7f",
   "metadata": {},
   "source": [
    "### Text splitting ###\n",
    "Info - https://python.langchain.com/v0.1/docs/modules/data_connection/document_transformers/recursive_text_splitter/"
   ]
  },
  {
   "cell_type": "code",
   "execution_count": 15,
   "id": "1eef99f1-1603-4155-9ab4-29ec7a28567c",
   "metadata": {},
   "outputs": [],
   "source": [
    "##### splitting data ####\n",
    "\n",
    "pdf_data = []\n",
    "for doc in arxiv_docs:\n",
    "    text_splitter = RecursiveCharacterTextSplitter(\n",
    "                    chunk_size=1000,\n",
    "                    chunk_overlap=100)\n",
    "    texts = text_splitter.create_documents([doc.page_content])\n",
    "    pdf_data.append(texts)\n"
   ]
  },
  {
   "cell_type": "markdown",
   "id": "4bddfcaa-b0a2-42d3-83b2-8fd94d3868a6",
   "metadata": {},
   "source": [
    "### Embedding ####\n",
    "\n",
    "Info - https://python.langchain.com/v0.2/docs/integrations/platforms/huggingface/"
   ]
  },
  {
   "cell_type": "code",
   "execution_count": 16,
   "id": "1e2e0b6e-7ced-445e-a8fa-ccc5ec9f2a33",
   "metadata": {},
   "outputs": [],
   "source": [
    "\n",
    "embeddings = HuggingFaceEmbeddings(model_name=\"sentence-transformers/all-MiniLM-l6-v2\")\n",
    "db = Chroma.from_documents(pdf_data[0], embeddings) "
   ]
  },
  {
   "cell_type": "code",
   "execution_count": 12,
   "id": "1e3afc52-fdcb-4ce4-9911-5aa93cfcf869",
   "metadata": {},
   "outputs": [
    {
     "name": "stdin",
     "output_type": "stream",
     "text": [
      "Enter your Google AI API key:  ········\n"
     ]
    }
   ],
   "source": [
    "os.environ[\"GOOGLE_API_KEY\"] = getpass.getpass(\"Enter your Google AI API key: \")"
   ]
  },
  {
   "cell_type": "code",
   "execution_count": 17,
   "id": "96fe14ea-39fb-4509-bf60-2d4da5f3765a",
   "metadata": {},
   "outputs": [
    {
     "name": "stderr",
     "output_type": "stream",
     "text": [
      "I0000 00:00:1722302189.338847   29558 check_gcp_environment_no_op.cc:29] ALTS: Platforms other than Linux and Windows are not supported\n",
      "I0000 00:00:1722302189.341116   29558 check_gcp_environment_no_op.cc:29] ALTS: Platforms other than Linux and Windows are not supported\n"
     ]
    }
   ],
   "source": [
    "llm = ChatGoogleGenerativeAI(model=\"gemini-1.5-pro\",\n",
    "                             temperature=0,\n",
    "                             max_tokens=None,\n",
    "                             timeout=None,\n",
    "                             max_retries=2,)\n",
    "\n",
    "qa = RetrievalQA.from_chain_type(llm=llm,\n",
    "                                 chain_type=\"stuff\",\n",
    "                                 retriever=db.as_retriever())"
   ]
  },
  {
   "cell_type": "code",
   "execution_count": 18,
   "id": "3094daa2-fd44-45fd-a293-e95d35464055",
   "metadata": {},
   "outputs": [
    {
     "name": "stderr",
     "output_type": "stream",
     "text": [
      "/Users/ketansand/opt/anaconda3/envs/deep-learning/lib/python3.12/site-packages/langchain_core/_api/deprecation.py:139: LangChainDeprecationWarning: The method `Chain.__call__` was deprecated in langchain 0.1.0 and will be removed in 0.3.0. Use invoke instead.\n",
      "  warn_deprecated(\n"
     ]
    },
    {
     "name": "stdout",
     "output_type": "stream",
     "text": [
      "{'query': 'What was the total exposure on the source?', 'result': 'The total exposure on the source in the aforementioned time interval is 201 hours. \\n'}\n"
     ]
    }
   ],
   "source": [
    "question = \"What was the total exposure on the source?\"\n",
    "result = qa({\"query\": question})\n",
    "\n",
    "print(result)"
   ]
  },
  {
   "cell_type": "code",
   "execution_count": 21,
   "id": "85597082-c538-431d-9c5b-0e66ae4ee4e1",
   "metadata": {},
   "outputs": [
    {
     "name": "stdout",
     "output_type": "stream",
     "text": [
      "{'query': 'Whats the limit on period derivative?', 'result': 'The limit on the period derivative (Pdot) is  ˙P = −0.2 ± 1.5 × 10−4 day day−1. \\n'}\n"
     ]
    }
   ],
   "source": [
    "question = \"Whats the limit on period derivative?\"\n",
    "result = qa({\"query\": question})\n",
    "\n",
    "print(result)"
   ]
  },
  {
   "cell_type": "code",
   "execution_count": 22,
   "id": "0f764f9b-e54f-404e-89e6-a48b0aca1716",
   "metadata": {},
   "outputs": [
    {
     "name": "stdout",
     "output_type": "stream",
     "text": [
      "{'query': 'Summarize the paper in a paragraph', 'result': 'This paper details a pipeline for analyzing the temporal structure of Fast Radio Bursts (FRBs) to search for repeating patterns. The pipeline smooths the burst profile, identifies sub-bursts using Exponentially Modified Gaussians, and then analyzes the auto-correlation function (ACF) of the time series for each sub-burst. This ACF analysis helps identify potential repeating patterns within the burst, which could provide insights into the emission mechanism of FRBs. The authors apply this pipeline to a sample of bright FRBs and find one case with interesting features in the ACF, highlighting the potential of this method for uncovering complex temporal structures in FRB signals. \\n'}\n"
     ]
    }
   ],
   "source": [
    "question = \"Summarize the paper in a paragraph\"\n",
    "result = qa({\"query\": question})\n",
    "\n",
    "print(result)"
   ]
  },
  {
   "cell_type": "code",
   "execution_count": 23,
   "id": "5f077363-5c0f-4453-92ea-3b23e0b34897",
   "metadata": {},
   "outputs": [
    {
     "name": "stdout",
     "output_type": "stream",
     "text": [
      "{'query': 'Tell me 5 facts about FRB 20180916B', 'result': 'Here are five facts about FRB 20180916B:\\n\\n1. **Periodic Activity:** FRB 20180916B is a repeating fast radio burst with a known period of activity. \\n2. **Steady Activity Rate:** It exhibits a steady rate of bursts within its activity cycle, unlike some other repeaters that show periods of heightened activity.\\n3. **Chromatic Activity:**  FRB 20180916B displays chromatic activity, meaning its bursts at different frequencies occur at different times within its activity cycle. Higher frequency bursts happen earlier, and lower frequency bursts occur later.\\n4. **Changing Rotation Measure (RM):**  Observations show a linear increase in its Rotation Measure (RM), indicating changes in the magnetic field environment around the source.\\n5. **Stable Dispersion Measure (DM):**  Despite the changes in RM, no significant variations in its Dispersion Measure (DM) have been observed. \\n'}\n"
     ]
    }
   ],
   "source": [
    "question = \"Tell me 5 facts about FRB 20180916B\"\n",
    "result = qa({\"query\": question})\n",
    "\n",
    "print(result)"
   ]
  },
  {
   "cell_type": "code",
   "execution_count": null,
   "id": "521b46b3-c0a3-47ab-86bf-ba95ab4a0b80",
   "metadata": {},
   "outputs": [],
   "source": []
  }
 ],
 "metadata": {
  "kernelspec": {
   "display_name": "Python 3 (ipykernel)",
   "language": "python",
   "name": "python3"
  },
  "language_info": {
   "codemirror_mode": {
    "name": "ipython",
    "version": 3
   },
   "file_extension": ".py",
   "mimetype": "text/x-python",
   "name": "python",
   "nbconvert_exporter": "python",
   "pygments_lexer": "ipython3",
   "version": "3.12.4"
  }
 },
 "nbformat": 4,
 "nbformat_minor": 5
}
